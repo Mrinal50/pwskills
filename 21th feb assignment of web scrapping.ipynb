{
 "cells": [
  {
   "cell_type": "code",
   "execution_count": null,
   "id": "7ebaef19-0198-412c-adcf-2ac156479d4f",
   "metadata": {},
   "outputs": [],
   "source": [
    "Q1. What is Web Scraping? Why is it Used? Give three areas where Web Scraping is used to get data.\n",
    "answer=\n",
    "What is web scraping and why is it used?\n",
    "Web scraping is the process of using bots to extract content and data from a website. \n",
    "Unlike screen scraping, which only copies pixels displayed onscreen, web scraping extracts underlying HTML code and, with it, \n",
    "data stored in a database.\n",
    "The scraper can then replicate entire website content elsewhere.\n",
    "\n",
    "1. Price Monitoring\n",
    "Web Scraping can be used by companies to scrap the product data for their products and competing products as well to see how it impacts their pricing strategies. Companies can use this data to fix the optimal pricing for their products so that they can obtain maximum revenue.\n",
    "\n",
    "2. Market Research\n",
    "Web scraping can be used for market research by companies. High-quality web scraped data obtained in large volumes can be very helpful for companies in analyzing consumer trends and understanding which direction the company should move in the future. \n",
    "\n",
    "3. News Monitoring\n",
    "Web scraping news sites can provide detailed reports on the current news to a company. This is even more essential for companies that are frequently in the news or that depend on daily news for their day-to-day functioning. After all, news reports can make or break a company in a single day!"
   ]
  },
  {
   "cell_type": "code",
   "execution_count": null,
   "id": "25cb6cd3-f1df-4cdf-b6bc-02f7b833aa1a",
   "metadata": {},
   "outputs": [],
   "source": [
    "Q2. What are the different methods used for Web Scraping?\n",
    "answer==\n",
    "Data Scraping Techniques\n",
    "HTML Parsing. HTML parsing involves the use of JavaScript to target a linear or nested HTML page. ...\n",
    "DOM Parsing. ...\n",
    "Vertical Aggregation. ...\n",
    "XPath. ...\n",
    "Google Sheets. ...\n",
    "Rate Limit User Requests. ...\n",
    "Mitigate High-Volume Requesters with CAPTCHAs. ...\n",
    "Regularly Modify HTML Markup."
   ]
  },
  {
   "cell_type": "code",
   "execution_count": null,
   "id": "bb6a93a5-54ba-429b-8f00-8fcc1abba314",
   "metadata": {},
   "outputs": [],
   "source": [
    "Q3. What is Beautiful Soup? Why is it used?\n",
    "answer--\n",
    "Beautiful Soup is a Python library that is used for web scraping purposes to pull the data out of HTML and XML files\n",
    "What is Beautiful Soup? Beautiful Soup provides simple methods for navigating, searching, and modifying a parse tree in HTML, XML files. It transforms a complex HTML document into a tree of Python objects. \n",
    "It also automatically converts the document to Unicode, so you don't have to think about encodings."
   ]
  },
  {
   "cell_type": "code",
   "execution_count": null,
   "id": "efa9f0f8-522c-4f6e-9157-d6e642ddb110",
   "metadata": {},
   "outputs": [],
   "source": [
    "Q4. Why is flask used in this Web Scraping project?\n",
    "answer==\n",
    "Why do we need to use flask in Python?\n",
    "It is designed to make getting started quick and easy, with the ability to scale up to complex applications. It began as a simple wrapper around Werkzeug and Jinja and has become one of the most popular Python web application frameworks. In simple terms,\n",
    "it is a web framework that is beginner-friendly and scalable."
   ]
  },
  {
   "cell_type": "code",
   "execution_count": null,
   "id": "4ee87634-64e0-47c8-8c93-213831a7692f",
   "metadata": {},
   "outputs": [],
   "source": [
    "answer==\n",
    "\n",
    "AWS Cloud Products\n",
    "Compute.\n",
    "Storage.\n",
    "Database.\n",
    "Networking & Content Delivery.\n",
    "Analytics.\n",
    "Machine Learning.\n",
    "Security, Identity, & Compliance"
   ]
  }
 ],
 "metadata": {
  "kernelspec": {
   "display_name": "Python 3 (ipykernel)",
   "language": "python",
   "name": "python3"
  },
  "language_info": {
   "codemirror_mode": {
    "name": "ipython",
    "version": 3
   },
   "file_extension": ".py",
   "mimetype": "text/x-python",
   "name": "python",
   "nbconvert_exporter": "python",
   "pygments_lexer": "ipython3",
   "version": "3.10.8"
  }
 },
 "nbformat": 4,
 "nbformat_minor": 5
}
