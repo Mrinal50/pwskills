{
 "cells": [
  {
   "cell_type": "code",
   "execution_count": null,
   "id": "e1b0be0d-4b5c-491d-b19f-0a146936c8ea",
   "metadata": {},
   "outputs": [],
   "source": [
    "#Q1. What is Statistics?\n",
    "'''answer- its the science of collecting ,organising and analyzing the data."
   ]
  },
  {
   "cell_type": "code",
   "execution_count": null,
   "id": "1b3fc913-f34e-4f93-ab29-a753135a8b20",
   "metadata": {},
   "outputs": [],
   "source": [
    "#Q2. Define the different types of statistics and give an example of when each type might be used.\n",
    "'''answer-different types -(a)desriptive statistics (b)inferential statistics.\n",
    "descriptive-when we have to organising data & summerizing the data .\n",
    "inferential statics - its used to make the decision.\n",
    "example- we have to find weight of a class of students.\n",
    "we will collecting the data {45,50,48,44,35}etc.\n",
    "now we organise the data we will find mean of the data(45+50+48+44+35/5)\n",
    "results-44.5 we keep as it sample.\n",
    "now we make decision according to this data like weight of class out of entire class is 45kgs."
   ]
  },
  {
   "cell_type": "code",
   "execution_count": null,
   "id": "400dd30e-aea6-4c1c-b0d0-24d00895f13c",
   "metadata": {},
   "outputs": [],
   "source": [
    "#Q3. What are the different types of data and how do they differ from each other? Provide an example of\n",
    "each type of data.\n",
    "'''answer-thre 2types of data are -\n",
    "quantitative\n",
    "[(a)discrete data type - it consist of whole number, eg -no of student of a class\n",
    "(b)continues data type -it contain anything even decimal eg-weight ,height]. \n",
    "qualitative\n",
    "[(a)nominal- catogory type it is ,eg -gender , color, blood group\n",
    "(b)ordinal-rank ,good guys ,beautiful girls]"
   ]
  },
  {
   "cell_type": "code",
   "execution_count": null,
   "id": "ac67a236-ba8f-4c06-b852-c89259681571",
   "metadata": {},
   "outputs": [],
   "source": [
    "#Q4. Categorise the following datasets with respect to quantitative and qualitative data types:\n",
    "'''(i) Grading in exam: A+, A, B+, B, C+, C, D, E\n",
    "(ii) Colour of mangoes: yellow, green, orange, red\n",
    "(iii) Height data of a class: [178.9, 179, 179.5, 176, 177.2, 178.3, 175.8,...]\n",
    "(iv) Number of mangoes exported by a farm: [500, 600, 478, 672, ...]\n",
    "\n",
    "answer-(i) Qualitaive (ordinal)\n",
    "(ii)qualitative(ordinal)\n",
    "(iii)quantitative(continues)\n",
    "(iv)quantative(discrete)"
   ]
  },
  {
   "cell_type": "code",
   "execution_count": null,
   "id": "c5fb7dd4-c073-4639-a489-126510395f02",
   "metadata": {},
   "outputs": [],
   "source": [
    "#Q5. Explain the concept of levels of measurement and give an example of a variable for each level.\n",
    "'''answer-There are 4 levels of measurement, which can be ranked from low to high: \n",
    "Nominal: the data can only be categorized. \n",
    "Ordinal: the data can be categorized and ranked.\n",
    "Interval: the data can be categorized and ranked, and evenly spaced.\n",
    "Ratio: the data can be categorized, ranked, evenly spaced and has a natural zero."
   ]
  },
  {
   "cell_type": "code",
   "execution_count": null,
   "id": "b534621d-69cc-4188-b52d-3a8e428a4e7b",
   "metadata": {},
   "outputs": [],
   "source": [
    "#Q7. How nominal data type is different from ordinal data type.\n",
    "'''answer-Nominal data is classified without a natural order or rank,\n",
    "whereas ordinal data has a predetermined or natural order. On the other hand,\n",
    "numerical or quantitative data will always be a number that can be measured."
   ]
  },
  {
   "cell_type": "code",
   "execution_count": null,
   "id": "4e24d9c1-bd09-4c49-9a7c-2d8f34b10978",
   "metadata": {},
   "outputs": [],
   "source": [
    "#Q8. Which type of plot can be used to display data in terms of range?\n",
    "'''answe-A histogram is another type of bar graph that illustrates the distribution of numeric data across categories.\n",
    "People often use histograms to illustrate statistics.\n",
    "For example, a histogram might display how many people belong to a certain age range within a population"
   ]
  },
  {
   "cell_type": "code",
   "execution_count": null,
   "id": "0b9b100b-c3a7-4b8a-82bf-888659a7b443",
   "metadata": {},
   "outputs": [],
   "source": [
    "#Q9. Describe the difference between descriptive and inferential statistics. Give an example of each\n",
    "#type of statistics and explain how they are used.\n",
    "'''\n",
    "answer-Descriptive statistics summarize the characteristics of a data set.\n",
    "Inferential statistics allow you to test a hypothesis or assess\n",
    "whether your data is generalizable to the broader population.\n",
    "1.\tIt gives information about raw data which describes the data in some manner.\t\n",
    "It makes inferences about the population using data drawn from the population.\n",
    "2.\tIt helps in organizing, analyzing, and to present data in a meaningful manner.\n",
    "It allows us to compare data, and make hypotheses and predictions.\n",
    "3.\tIt is used to describe a situation.\tIt is used to explain the chance of occurrence of an event.\n",
    "4.\tIt explains already known data and is limited to a sample or population having a small size.\t\n",
    "It attempts to reach the conclusion about the population.\n",
    "5.\tIt can be achieved with the help of charts, graphs, tables, etc.\n",
    "It can be achieved by probability."
   ]
  },
  {
   "cell_type": "code",
   "execution_count": null,
   "id": "c14f28d9-948f-4d21-87ca-ddc07521b209",
   "metadata": {},
   "outputs": [],
   "source": [
    "#Q10. What are some common measures of central tendency and variability used in statistics? Explain\n",
    "#how each measure can be used to describe a dataset.\n",
    "\n",
    "'''answer-\n"
   ]
  }
 ],
 "metadata": {
  "kernelspec": {
   "display_name": "Python 3 (ipykernel)",
   "language": "python",
   "name": "python3"
  },
  "language_info": {
   "codemirror_mode": {
    "name": "ipython",
    "version": 3
   },
   "file_extension": ".py",
   "mimetype": "text/x-python",
   "name": "python",
   "nbconvert_exporter": "python",
   "pygments_lexer": "ipython3",
   "version": "3.10.8"
  }
 },
 "nbformat": 4,
 "nbformat_minor": 5
}
