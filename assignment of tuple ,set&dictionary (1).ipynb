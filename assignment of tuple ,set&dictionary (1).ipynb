{
 "cells": [
  {
   "cell_type": "markdown",
   "id": "7e2712f9-8af9-4a77-9c76-c400246e5222",
   "metadata": {},
   "source": [
    "##Assignment of tuple ,set & dictionary"
   ]
  },
  {
   "cell_type": "code",
   "execution_count": null,
   "id": "e5327b55-d643-4fcc-9ddb-b9d7d82aee9b",
   "metadata": {},
   "outputs": [],
   "source": [
    "#Quetion no 1.what are the charecterictics of tuple ?is it immutable?\n",
    "#answer- Tuples are unchangeble , if you put some value on tuple it cant be edit.but it allows duplicate values.\n",
    "#Yes Tuples are immutable means once it wrote it cant be changed.\n",
    "\n",
    "#Question no 2.what are the two tuple methods?give example of each.give reason why tuples have only to in-built methodscompared to list?\n",
    "\n",
    "#Answer-Tuples have two in built method -(a)count() (b)index().\n",
    "tuple =(1,2,3,1,2,3,1,2,3)\n",
    "tuple.count(3)"
   ]
  },
  {
   "cell_type": "code",
   "execution_count": null,
   "id": "4e681581-dfea-460e-bb18-ed2c359168a2",
   "metadata": {},
   "outputs": [],
   "source": [
    "#index example of tuple-\n",
    "Tuple=(1,2,5,4,3,4,6,7)\n",
    "Tuple.index(5)"
   ]
  },
  {
   "cell_type": "code",
   "execution_count": null,
   "id": "b6203857-b4e1-4fd5-9230-816a9e894d73",
   "metadata": {},
   "outputs": [],
   "source": [
    "Question no 3#which  collection datatypes inpythons do not allows duplicate items ?write a code using a se to remove duplicates from\n",
    "#List [1,1,1,2,1,3,1,4,2,1,2,2,2,3,2,4,3,1,3,2,3,3,3,4,4,1,2,4,3,4,4]\n",
    "\n",
    "ANSWER-#set datatypes is a collection which does not allows dupliates items."
   ]
  },
  {
   "cell_type": "code",
   "execution_count": 2,
   "id": "6d2ab5b5-25d6-4c6b-8f7d-6943a2c612f1",
   "metadata": {},
   "outputs": [
    {
     "name": "stdout",
     "output_type": "stream",
     "text": [
      "{1, 2, 3, 4}\n"
     ]
    }
   ],
   "source": [
    "list = [1,1,1,2,1,3,1,4,2,1,2,2,2,3,2,4,3,1,3,2,3,3,3,4,4,1,2,4,3,4,4]\n",
    "set = set(list)\n",
    "print(set)"
   ]
  },
  {
   "cell_type": "code",
   "execution_count": null,
   "id": "2e4b8a19-8916-4747-b531-17b94ed88779",
   "metadata": {},
   "outputs": [],
   "source": [
    "#another method."
   ]
  },
  {
   "cell_type": "code",
   "execution_count": 3,
   "id": "f5fce6c2-0acc-49f6-9501-c2164229dba1",
   "metadata": {},
   "outputs": [
    {
     "name": "stdout",
     "output_type": "stream",
     "text": [
      "{1, 2, 3, 4}\n"
     ]
    }
   ],
   "source": [
    "list = [1,1,1,2,1,3,1,4,2,1,2,2,2,3,2,4,3,1,3,2,3,3,3,4,4,1,2,4,3,4,4]\n",
    "set ={s for s in[1,1,1,2,1,3,1,4,2,1,2,2,2,3,2,4,3,1,3,2,3,3,3,4,4,1,2,4,3,4,4]}\n",
    "print(set)"
   ]
  },
  {
   "cell_type": "code",
   "execution_count": null,
   "id": "42d73d1d-abdf-4fc3-a07a-6b4ab0863040",
   "metadata": {},
   "outputs": [],
   "source": [
    "Question no 4#Explain the difference between union() and update()with example.\n",
    "\n",
    "ANSWER#set nion () creates new set.\n",
    "example "
   ]
  },
  {
   "cell_type": "code",
   "execution_count": null,
   "id": "a5e7c015-cad3-41d7-8f9d-7f92c32b1c84",
   "metadata": {},
   "outputs": [],
   "source": [
    "A= {1,2,3,4,5}"
   ]
  },
  {
   "cell_type": "code",
   "execution_count": null,
   "id": "d14b0ab0-e648-4bab-80ba-4c60045b3550",
   "metadata": {},
   "outputs": [],
   "source": [
    "B = {4,5,6,7,8,9}"
   ]
  },
  {
   "cell_type": "code",
   "execution_count": null,
   "id": "2d562829-8330-434d-be8f-cd168353f36a",
   "metadata": {},
   "outputs": [],
   "source": [
    "s=(A).union(B)"
   ]
  },
  {
   "cell_type": "code",
   "execution_count": null,
   "id": "f52b6d88-ed2f-4a39-a341-c204d74698c7",
   "metadata": {},
   "outputs": [],
   "source": [
    "Update() its adds all missing elements to the set."
   ]
  },
  {
   "cell_type": "code",
   "execution_count": null,
   "id": "61d4d857-c469-47ab-95ba-da9d056d63ae",
   "metadata": {},
   "outputs": [],
   "source": [
    "#example"
   ]
  },
  {
   "cell_type": "code",
   "execution_count": null,
   "id": "21107d45-f2dd-409a-8d36-8ec0b6f53f93",
   "metadata": {},
   "outputs": [],
   "source": [
    "s = {1,2.3}"
   ]
  },
  {
   "cell_type": "code",
   "execution_count": null,
   "id": "c5ec8dcb-7e27-4eae-83a6-2d0b6a800410",
   "metadata": {},
   "outputs": [],
   "source": [
    "news = s| {4}"
   ]
  },
  {
   "cell_type": "code",
   "execution_count": null,
   "id": "ee244933-ad6d-435c-af89-90b58cf4e29c",
   "metadata": {},
   "outputs": [],
   "source": [
    "set([1,2,3,4]))"
   ]
  },
  {
   "cell_type": "code",
   "execution_count": null,
   "id": "82ba5d77-47d6-4a15-b50b-b8a22d7750ee",
   "metadata": {},
   "outputs": [],
   "source": [
    "s.update({4})\n",
    "set([1,2,3,4])"
   ]
  },
  {
   "cell_type": "code",
   "execution_count": null,
   "id": "6eff0360-97c6-451a-b65a-99caa248a43a",
   "metadata": {},
   "outputs": [],
   "source": [
    "Questio no 5.#What is dictionary?give example and state its ordered or unordered?\n",
    "\n",
    "Answer# dictionary isa collection ordered ,changeble and does not allow duplicates .\n",
    "Its in ordered .\n",
    "examples ; "
   ]
  },
  {
   "cell_type": "code",
   "execution_count": null,
   "id": "2481bff7-7a78-4c8e-85d6-b2cb550e3e8f",
   "metadata": {},
   "outputs": [],
   "source": [
    "Dict = {1:'Sigma', 2: 'For' , 3: 'Sigma'}"
   ]
  },
  {
   "cell_type": "code",
   "execution_count": null,
   "id": "37e6e76c-b6d3-4c9c-8465-3214c1a1204c",
   "metadata": {},
   "outputs": [],
   "source": [
    "Question no 6.#Can we create a nested dictionary ?please give an exmple by creating a simple one level nested dictionry"
   ]
  },
  {
   "cell_type": "code",
   "execution_count": null,
   "id": "95b1db46-d2b3-438b-8db2-136a22e10878",
   "metadata": {},
   "outputs": [],
   "source": [
    "Answer# A Nested dictionary has many dictionary , we can create a dictionary within N Number of dictionary.\n",
    "example"
   ]
  },
  {
   "cell_type": "code",
   "execution_count": null,
   "id": "b58e0932-59ae-4985-b544-eef977a35853",
   "metadata": {},
   "outputs": [],
   "source": [
    "#creating a nested dictionary."
   ]
  },
  {
   "cell_type": "code",
   "execution_count": null,
   "id": "0c430a69-033a-4a81-8463-9d6e56343eff",
   "metadata": {},
   "outputs": [
    {
     "name": "stdout",
     "output_type": "stream",
     "text": [
      "Nested dictionary 1-\n"
     ]
    }
   ],
   "source": [
    "Dict = {'Dict1': {},\n",
    "        'Dict2':{}}\n",
    "print(\"Nested dictionary 1-\")"
   ]
  },
  {
   "cell_type": "code",
   "execution_count": 14,
   "id": "9474cc60-c7d4-4baf-b5ef-8b6fe90377f1",
   "metadata": {},
   "outputs": [
    {
     "name": "stdout",
     "output_type": "stream",
     "text": [
      "{'Dict1': {}, 'Dict2': {}}\n"
     ]
    }
   ],
   "source": [
    "print(Dict)"
   ]
  },
  {
   "cell_type": "code",
   "execution_count": null,
   "id": "37e3ed9f-fc9e-488f-afb1-cc8bdd133307",
   "metadata": {},
   "outputs": [],
   "source": [
    "QUESTION NO 7,#using set default method,create key named topic in the given dictionary and also add\n",
    "#the value of the key as this list ['Python','Machine Learning',Deep Learning']\n",
    "dict1={language':Python','course':'Data Science Masters'}"
   ]
  },
  {
   "cell_type": "code",
   "execution_count": null,
   "id": "f5d4e4ed-37e5-487f-9ab8-ababdcb25d1e",
   "metadata": {},
   "outputs": [],
   "source": [
    "ANSWER#"
   ]
  }
 ],
 "metadata": {
  "kernelspec": {
   "display_name": "Python 3 (ipykernel)",
   "language": "python",
   "name": "python3"
  },
  "language_info": {
   "codemirror_mode": {
    "name": "ipython",
    "version": 3
   },
   "file_extension": ".py",
   "mimetype": "text/x-python",
   "name": "python",
   "nbconvert_exporter": "python",
   "pygments_lexer": "ipython3",
   "version": "3.10.8"
  }
 },
 "nbformat": 4,
 "nbformat_minor": 5
}
