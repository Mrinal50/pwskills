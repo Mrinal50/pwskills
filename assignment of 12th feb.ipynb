{
 "cells": [
  {
   "cell_type": "code",
   "execution_count": null,
   "id": "7d54068c-71ee-4284-a1af-a019d0cbeea0",
   "metadata": {},
   "outputs": [],
   "source": [
    "Question no =1,, explain why have to use the exception class while creating a custum exception.\n",
    "\n",
    "answer- \n",
    "it is helps to diagnose probles that have occured in the code.\n"
   ]
  },
  {
   "cell_type": "code",
   "execution_count": null,
   "id": "95156953-41d7-4e09-bf62-6416c9c0da2c",
   "metadata": {},
   "outputs": [],
   "source": [
    "#Qiestion no2. write a python program to print pyhton exception  hierarchy?\n",
    "#\n",
    "#Answer-\n",
    "import inspect \n",
    "def treeClass(cls, ind=0):\n",
    "    print('-'*ind,cls.__name__)\n",
    "    for i in cls.__subclasses__():\n",
    "        treeClass(i,ind*+3)\n",
    "    print('hierarchy for built-in exceptions is:')\n",
    "    inspect.getclasstree(inspect.getmro(BaseException))\n",
    "    treeClass(BaseException)\n",
    "\n"
   ]
  },
  {
   "cell_type": "code",
   "execution_count": null,
   "id": "50e80592-e7c1-477e-a805-c5f0285f53d2",
   "metadata": {},
   "outputs": [],
   "source": []
  },
  {
   "cell_type": "code",
   "execution_count": 3,
   "id": "c4d9d5ca-4de3-4441-acd9-594298a104f9",
   "metadata": {},
   "outputs": [
    {
     "ename": "ZeroDivisionError",
     "evalue": "division by zero",
     "output_type": "error",
     "traceback": [
      "\u001b[0;31m---------------------------------------------------------------------------\u001b[0m",
      "\u001b[0;31mZeroDivisionError\u001b[0m                         Traceback (most recent call last)",
      "Cell \u001b[0;32mIn[3], line 5\u001b[0m\n\u001b[1;32m      1\u001b[0m \u001b[38;5;66;03m#QUESTION NO 3'what error are defined in the arithmatic error class ? explin with example.\u001b[39;00m\n\u001b[1;32m      2\u001b[0m \n\u001b[1;32m      3\u001b[0m \u001b[38;5;66;03m#ANSWER-  \u001b[39;00m\n\u001b[1;32m      4\u001b[0m \u001b[38;5;66;03m#when error occurs during nmeric calcultionin pyhton,\u001b[39;00m\n\u001b[0;32m----> 5\u001b[0m arithmetic\u001b[38;5;241m=\u001b[39m\u001b[38;5;241;43m5\u001b[39;49m\u001b[38;5;241;43m/\u001b[39;49m\u001b[38;5;241;43m0\u001b[39;49m\n\u001b[1;32m      6\u001b[0m \u001b[38;5;28mprint\u001b[39m(arithmetic)\n",
      "\u001b[0;31mZeroDivisionError\u001b[0m: division by zero"
     ]
    }
   ],
   "source": [
    "#QUESTION NO 3'what error are defined in the arithmatic error class ? explin with example.\n",
    "\n",
    "#ANSWER-  \n",
    "#when error occurs during nmeric calcultionin pyhton,\n",
    "arithmetic=5/0\n",
    "print(arithmetic)\n"
   ]
  },
  {
   "cell_type": "code",
   "execution_count": 8,
   "id": "58fae2ef-3e43-44cb-95df-1952d0eaca54",
   "metadata": {},
   "outputs": [
    {
     "name": "stdout",
     "output_type": "stream",
     "text": [
      "you hve just made an arithmetic error\n"
     ]
    }
   ],
   "source": [
    "#thistypeof error happed.\n",
    "#howtohandle this type error.\n",
    "try:\n",
    "    arithmetic=5/0\n",
    "    print(arithmetic)\n",
    "except ArithmeticError:\n",
    "    print('you hve just made an arithmetic error')\n",
    "    "
   ]
  },
  {
   "cell_type": "code",
   "execution_count": 12,
   "id": "4a4e01e5-7399-4a65-a920-2e3b3209a560",
   "metadata": {},
   "outputs": [
    {
     "name": "stdout",
     "output_type": "stream",
     "text": [
      "Index Error Exception Raised,list index out of range\n"
     ]
    }
   ],
   "source": [
    "#Question no4.why lookup error clss is used ?explin with example key error nd index error.\n",
    "\n",
    "#answer--\n",
    "#lookup error acts as a bae class for the exception that  occur whena key or index used on a mpping or sequence of \n",
    "#of listis invalid or doesnt exist.\n",
    "try:\n",
    "    a=['a','b','c']\n",
    "    print(a[4])\n",
    "except LookupError:\n",
    "    print('Index Error Exception Raised,list index out of range')\n",
    "else:\n",
    "    print('Success,no error!')\n",
    "            "
   ]
  },
  {
   "cell_type": "code",
   "execution_count": 16,
   "id": "34efa5a4-5069-46a7-9c88-a9df966e0e8f",
   "metadata": {},
   "outputs": [
    {
     "name": "stdout",
     "output_type": "stream",
     "text": [
      "Index Error Exception Raised,list index out of range\n"
     ]
    }
   ],
   "source": [
    "try:\n",
    "    a=['a','b','c']\n",
    "    print(a[4])\n",
    "except LookupError:\n",
    "    print('Index Error Exception Raised,list index out of range')\n",
    "else:\n",
    "    print('Success ,no error!')"
   ]
  },
  {
   "cell_type": "code",
   "execution_count": null,
   "id": "3a4eadf3-557a-4a02-a031-ee8aa105751c",
   "metadata": {},
   "outputs": [],
   "source": [
    "Question no 5.explain importerror.what is the modulenot function error?\n",
    "Answer--this error occurs when a class is cant be imported through  class in a cirular dependency.orimpot clss unavailal.\n",
    "modulenotfound- when you try to import a module in a python file, python tryto resolve this.\n",
    "\n"
   ]
  },
  {
   "cell_type": "code",
   "execution_count": 18,
   "id": "19216e83-2b66-4e71-bc65-0ed79cc6af87",
   "metadata": {},
   "outputs": [
    {
     "ename": "ZeroDivisionError",
     "evalue": "division by zero",
     "output_type": "error",
     "traceback": [
      "\u001b[0;31m---------------------------------------------------------------------------\u001b[0m",
      "\u001b[0;31mZeroDivisionError\u001b[0m                         Traceback (most recent call last)",
      "Cell \u001b[0;32mIn[18], line 7\u001b[0m\n\u001b[1;32m      1\u001b[0m \u001b[38;5;66;03m#Question no 6.list down some best practices for exception handling in python.\u001b[39;00m\n\u001b[1;32m      2\u001b[0m \n\u001b[1;32m      3\u001b[0m \u001b[38;5;66;03m#Answer-exceptionare raised when the program is syntactically correct but the code resulted in an error.\u001b[39;00m\n\u001b[1;32m      4\u001b[0m \u001b[38;5;66;03m#this error doesntstop the execution of program.\u001b[39;00m\n\u001b[1;32m      5\u001b[0m \u001b[38;5;66;03m#example\u001b[39;00m\n\u001b[1;32m      6\u001b[0m marks\u001b[38;5;241m=\u001b[39m\u001b[38;5;241m1000\u001b[39m\n\u001b[0;32m----> 7\u001b[0m a\u001b[38;5;241m=\u001b[39m\u001b[43mmarks\u001b[49m\u001b[38;5;241;43m/\u001b[39;49m\u001b[38;5;241;43m0\u001b[39;49m\n\u001b[1;32m      8\u001b[0m \u001b[38;5;28mprint\u001b[39m(a)\n",
      "\u001b[0;31mZeroDivisionError\u001b[0m: division by zero"
     ]
    }
   ],
   "source": [
    "#Question no 6.list down some best practices for exception handling in python.\n",
    "\n",
    "#Answer-exceptionare raised when the program is syntactically correct but the code resulted in an error.\n",
    "#this error doesntstop the execution of program.\n",
    "#example\n",
    "marks=1000\n",
    "a=marks/0\n",
    "print(a)"
   ]
  },
  {
   "cell_type": "code",
   "execution_count": null,
   "id": "1a654427-007d-4c89-bf18-ea9527a234db",
   "metadata": {},
   "outputs": [],
   "source": []
  }
 ],
 "metadata": {
  "kernelspec": {
   "display_name": "Python 3 (ipykernel)",
   "language": "python",
   "name": "python3"
  },
  "language_info": {
   "codemirror_mode": {
    "name": "ipython",
    "version": 3
   },
   "file_extension": ".py",
   "mimetype": "text/x-python",
   "name": "python",
   "nbconvert_exporter": "python",
   "pygments_lexer": "ipython3",
   "version": "3.10.8"
  }
 },
 "nbformat": 4,
 "nbformat_minor": 5
}
