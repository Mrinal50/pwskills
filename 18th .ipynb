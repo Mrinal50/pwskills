{
 "cells": [
  {
   "cell_type": "code",
   "execution_count": null,
   "id": "6779c3dc-296a-4dd6-8475-5eafc8090d3d",
   "metadata": {},
   "outputs": [],
   "source": [
    "Q1. What is an API? Give an example, where an API is used in real life.\n",
    "ANSWER- \n",
    "APIs are used in web applications to connect user-facing front ends with critical back-end functionality and data.\n",
    "APIs are used to abstract the complexity of back-end logic in a variety of software systems. \n",
    "APIs access the data of a particular software and work to make sure it is compatible with interacting software.\n",
    "\n"
   ]
  },
  {
   "cell_type": "code",
   "execution_count": null,
   "id": "ca068b31-7283-4a2e-b550-92c30cf26292",
   "metadata": {},
   "outputs": [],
   "source": [
    "Q2. Give advantages and disadvantages of using API.\n",
    "ANSWER--\n",
    "The main advantage of providing an API is that it allows your users to do more with \n",
    "your product or service (i.e. it increases the value of your product)..\n",
    "\n",
    "API Disadvantages\n",
    "As a single point of entry, an API is a gateway and can become a hacker's primary target.\n",
    "Once the API is compromised, all other applications and systems become vulnerable."
   ]
  },
  {
   "cell_type": "code",
   "execution_count": null,
   "id": "678c87b4-9fdc-4c08-af0b-efca13ae3030",
   "metadata": {},
   "outputs": [],
   "source": [
    "Q3. What is a Web API? Differentiate between API and Web API.\n",
    "ANSWER-Web Services\tWeb API\n",
    "Web services are a type of API, which must be accessed through a network connection.\tAPIs are application interfaces, implying that one application can communicate with another application in a standardized manner.\n",
    "Web service is used for REST, SOAP and XML-RPC for communication.\tAPI is used for any style of communication.\n",
    "All Web services are APIs.\tAPIs are not web services.\n",
    "It doesn’t have lightweight design, needs a SOAP convention to send or receive data over the system.\tIt has a light-weight architecture furthermore, useful for gadgets which have constrained transmission capacity like smart phones.\n",
    "It provides supports only for the HTTP protocol.\tIt provides support for the HTTP/s protocol: URL Request/Response Headers, and so on.\n",
    "It is not open source, however, can be devoured by any customer that comprehends xml.\tIt is an open source and also ships with .NET framework.\n",
    "Web service supports only XML.\tAPI supports XML and JSON.\n",
    "Web Services can be hosted on IIS.\tWeb API can be hosted only on IIS and self.\n",
    "\n"
   ]
  },
  {
   "cell_type": "code",
   "execution_count": null,
   "id": "b42fa9ed-138c-42d0-a8e9-6245e633552a",
   "metadata": {},
   "outputs": [],
   "source": [
    "Q4. Explain REST and SOAP Architecture. Mention shortcomings of SOAP.\n",
    "ANSWER--\n",
    "Key Difference Between SOAP and REST API\n",
    "SOAP stands for Simple Object Access Protocol whereas REST stands for Representational State Transfer.\n",
    "SOAP is a protocol whereas REST is an architectural pattern.\n",
    "SOAP uses service interfaces to expose its functionality to client applications while REST uses Uniform Service locators to access to the components on the hardware device.\n",
    "SOAP needs more bandwidth for its usage whereas REST doesn’t need much bandwidth.\n",
    "Comparing SOAP vs REST API, SOAP only works with XML formats whereas REST work with plain text, XML, HTML and JSON.\n",
    "SOAP cannot make use of REST whereas REST can make use of SOAP."
   ]
  },
  {
   "cell_type": "code",
   "execution_count": null,
   "id": "bc46dcab-4346-489f-bce0-9bbd8b0fc3e7",
   "metadata": {},
   "outputs": [],
   "source": []
  }
 ],
 "metadata": {
  "kernelspec": {
   "display_name": "Python 3 (ipykernel)",
   "language": "python",
   "name": "python3"
  },
  "language_info": {
   "codemirror_mode": {
    "name": "ipython",
    "version": 3
   },
   "file_extension": ".py",
   "mimetype": "text/x-python",
   "name": "python",
   "nbconvert_exporter": "python",
   "pygments_lexer": "ipython3",
   "version": "3.10.8"
  }
 },
 "nbformat": 4,
 "nbformat_minor": 5
}
