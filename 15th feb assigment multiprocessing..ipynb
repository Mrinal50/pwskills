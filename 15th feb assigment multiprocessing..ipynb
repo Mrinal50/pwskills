{
 "cells": [
  {
   "cell_type": "code",
   "execution_count": null,
   "id": "416f09bc-4c4a-4895-9668-7ed022530237",
   "metadata": {},
   "outputs": [],
   "source": [
    "#1.What is multiprocessing in python? Why is it useful?\n",
    "\n",
    "ANSWER--\n",
    "###Multiprocessing in Python is a built-in package that allows the system to run multiple processes simultaneously. \n",
    "#It will enable the breaking of applications into smaller threads that can run independently."
   ]
  },
  {
   "cell_type": "code",
   "execution_count": null,
   "id": "4de195d4-760f-4c1e-b652-8fcd0a7219e0",
   "metadata": {},
   "outputs": [],
   "source": [
    "#Q2. What are the differences between multiprocessing and multithreading?\n",
    "\n",
    "ANSWER-- \n",
    "#Multiprocessing uses two or more CPUs to increase computing power,\n",
    "#whereas multithreading uses a single process with multiple code segments to increase computing power. \n",
    "#Multithreading focuses on generating computing threads from a single process,\n",
    "#whereas multiprocessing increases computing power by adding CPUs"
   ]
  },
  {
   "cell_type": "code",
   "execution_count": 1,
   "id": "f51da987-7299-4816-912c-de140ef6d2ee",
   "metadata": {},
   "outputs": [
    {
     "name": "stdout",
     "output_type": "stream",
     "text": [
      "Square: 100\n",
      "Cube: 1000\n",
      "Done!\n"
     ]
    }
   ],
   "source": [
    "#Q3. Write a python code to create a process using the multiprocessing module.\n",
    "\n",
    "#ANSWER--\n",
    "# importing the multiprocessing module\n",
    "import multiprocessing\n",
    "\n",
    "def print_cube(num):\n",
    "    \"\"\"\n",
    "    function to print cube of given num\n",
    "    \"\"\"\n",
    "    print(\"Cube: {}\".format(num * num * num))\n",
    "\n",
    "def print_square(num):\n",
    "    \"\"\"\n",
    "    function to print square of given num\n",
    "    \"\"\"\n",
    "    print(\"Square: {}\".format(num * num))\n",
    "\n",
    "if __name__ == \"__main__\":\n",
    "    # creating processes\n",
    "    p1 = multiprocessing.Process(target=print_square, args=(10, ))\n",
    "    p2 = multiprocessing.Process(target=print_cube, args=(10, ))\n",
    "\n",
    "    # starting process 1\n",
    "    p1.start()\n",
    "    # starting process 2\n",
    "    p2.start()\n",
    "\n",
    "    # wait until process 1 is finished\n",
    "    p1.join()\n",
    "    # wait until process 2 is finished\n",
    "    p2.join()\n",
    "\n",
    "    # both processes finished\n",
    "    print(\"Done!\")\n"
   ]
  },
  {
   "cell_type": "code",
   "execution_count": null,
   "id": "ab991973-7e49-4b96-9714-987a68e29a17",
   "metadata": {},
   "outputs": [],
   "source": [
    "#4.What is a multiprocessing pool in python? Why is it used?\n",
    "#ANSWER-\n",
    "Python multiprocessing Pool can be used for parallel execution of a function across multiple input values, \n",
    "distributing the input data across processes (data parallelism).\n",
    "The multiprocessing package offers both local and remote concurrency, \n",
    "effectively side-stepping the Global Interpreter Lock by using subprocesses instead of threads. \n",
    "Due to this, the multiprocessing module allows the programmer to fully leverage multiple processors on a given machine.\n"
   ]
  },
  {
   "cell_type": "code",
   "execution_count": null,
   "id": "767fba6a-651c-42fa-a0d9-76e474d34239",
   "metadata": {},
   "outputs": [],
   "source": [
    "#Q5. How can we create a pool of worker processes in python using the multiprocessing module?\n",
    "\n",
    "#ANSWER-\n",
    "the Pool class is more convenient, and you do not have to manage it manually.\n",
    "The syntax to create a pool object is multiprocessing.\n",
    "Pool(processes, initializer, initargs, maxtasksperchild, context). \n",
    "All the arguments are optional. processes represent the number of worker processes you want to create. \n",
    "The default value is obtained by os.cpu_count(). The second initializer argument is a function used for initialization, \n",
    "and the initargs are the arguments passed to it. maxtasksperchild represents the number of tasks assigned\n",
    "to each child process. \n",
    "After that number of tasks, the process will get replaced by a new worker process.\n",
    "The advantage of specifying this is that any unused resources will be released.\n",
    "If not provided any, the processes will exist as long as the pool does.\n",
    "\n"
   ]
  },
  {
   "cell_type": "code",
   "execution_count": null,
   "id": "8e0020da-ccaf-4b9a-91ac-6e422dce7733",
   "metadata": {},
   "outputs": [],
   "source": [
    "#Q6. Write a python program to create 4 processes, each process should print a different number using the\n",
    "#multiprocessing module in python.\n",
    "\n",
    "#ANSWER--\n",
    "import multiprocessing\n",
    "import time\n",
    "\n",
    "def task():\n",
    "    print('Sleeping for 0.5 seconds')\n",
    "    time.sleep(0.5)\n",
    "    print('Finished sleeping')\n",
    "\n",
    "if __name__ == \"__main__\":\n",
    "    start_time = time.perf_counter()\n",
    "\n",
    "    # Creates two processes\n",
    "    p1 = multiprocessing.Process(target=task)\n",
    "    p2 = multiprocessing.Process(target=task)\n",
    "\n",
    "    # Starts both processes\n",
    "    p1.start()\n",
    "    p2.start()\n",
    "\n",
    "    finish_time = time.perf_counter()\n",
    "\n",
    "    print(f\"Program finished in {finish_time-start_time} seconds\")"
   ]
  }
 ],
 "metadata": {
  "kernelspec": {
   "display_name": "Python 3 (ipykernel)",
   "language": "python",
   "name": "python3"
  },
  "language_info": {
   "codemirror_mode": {
    "name": "ipython",
    "version": 3
   },
   "file_extension": ".py",
   "mimetype": "text/x-python",
   "name": "python",
   "nbconvert_exporter": "python",
   "pygments_lexer": "ipython3",
   "version": "3.10.8"
  }
 },
 "nbformat": 4,
 "nbformat_minor": 5
}
