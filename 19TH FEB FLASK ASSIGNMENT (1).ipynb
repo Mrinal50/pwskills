{
 "cells": [
  {
   "cell_type": "code",
   "execution_count": null,
   "id": "0fd634f9-66d0-4b8d-8150-6cbe4c52d98f",
   "metadata": {},
   "outputs": [],
   "source": [
    "Q1. What is Flask Framework? What are the advantages of Flask Framework?\n",
    "\n",
    "ANSWER-\n",
    "Flask is a micro web framework written in Python. \n",
    "It is classified as a microframework because it does not require particular tools or libraries\n",
    "What are the advantages of flask framework?\n",
    "Image result for Q1. What is Flask Framework? What are the advantages of Flask Framework?\n",
    "Advantages of Flask\n",
    "Scalable. Size is everything, and Flask's status as a microframework means that you can use it to grow a tech project such as a web app incredibly quickly. ...\n",
    "Flexible. ...\n",
    "Easy to negotiate. ...\n",
    "Lightweight. ...\n",
    "Documentation. ...\n",
    "Not a lot of tools. ...\n",
    "Difficult to get familiar with a larger Flask app. ...\n",
    "Maintenance costs.\n"
   ]
  },
  {
   "cell_type": "code",
   "execution_count": null,
   "id": "dbfad7b3-2048-4915-9ab3-8433cb48608d",
   "metadata": {},
   "outputs": [],
   "source": [
    "Q2. Create a simple Flask application to display ‘Hello World!!’. Attach the screenshot of the output in\n",
    "Jupyter Notebook.\n",
    "ANSWER--\n",
    "from flask import Flask, jsonify, request\n",
    "\n",
    "app = Flask(__name__)\n",
    "\n",
    "\n",
    "@app.route('/hello', methods=['GET'])\n",
    "def helloworld():\n",
    "    if(request.method == 'GET'):\n",
    "    data = {\"data\": \"Hello World\"}\n",
    "    return jsonify(data)\n",
    "\n",
    "\n",
    "if __name__ == '__main__':\n",
    "    app.run(debug=True)\n"
   ]
  },
  {
   "cell_type": "code",
   "execution_count": null,
   "id": "abe0427c-7dcd-4932-b3d9-9a40f7541418",
   "metadata": {},
   "outputs": [],
   "source": [
    "Q3. What is App routing in Flask? Why do we use app routes?\n",
    "ANSWER-\n",
    "App Routing means mapping the URLs to a specific function that will handle the logic for that URL. \n",
    "Modern web frameworks use more meaningful URLs to help users remember the URLs and make navigation simpler. \n",
    "Example: In our application, the URL (“/”) is associated with the root URL\n",
    "\n",
    "App routing is used to map the specific URL with the associated function that is intended to perform some task. \n",
    "It is used to access some particular page like Flask Tutorial in the web application'."
   ]
  },
  {
   "cell_type": "code",
   "execution_count": null,
   "id": "0099b68e-bec6-4989-bbd4-8c94f1d6f548",
   "metadata": {},
   "outputs": [],
   "source": [
    "Q4. Create a “/welcome” route to display the welcome message “Welcome to ABC Corporation” and a “/”\n",
    "route to show the following details:Company Name: ABC Corporation\n",
    "Location: India\n",
    "Contact Detail: 999-999-9999\n",
    "\n",
    "ANSWER==\n"
   ]
  },
  {
   "cell_type": "code",
   "execution_count": null,
   "id": "d6d07162-84dd-47ab-81b7-43d3e66f2c61",
   "metadata": {},
   "outputs": [],
   "source": [
    "Q5. What function is used in Flask for URL Building? Write a Python code to demonstrate the working of the\n",
    "url_for() function.\n",
    "\n",
    "ANSWER-\n",
    "\n",
    "The url_for() function is used to build a URL to the specific function dynamically. The first argument is the name of the specified function, and then we can pass any number of keyword argument corresponding to the variable part of the URL.\n",
    "\n",
    "This function is useful in the sense that we can avoid hard-coding the URLs into the templates by dynamically building them using this function.\n",
    "\n",
    "Consider the following python flask script.\n",
    "\n",
    "Example\n",
    "from flask import *  \n",
    "   \n",
    "app = Flask(__name__)  \n",
    "  \n",
    "@app.route('/admin')  \n",
    "def admin():  \n",
    "    return 'admin'  \n",
    "  \n",
    "@app.route('/librarion')  \n",
    "def librarion():  \n",
    "    return 'librarion'  \n",
    "  \n",
    "@app.route('/student')  \n",
    "def student():  \n",
    "    return 'student'  \n",
    "  \n",
    "@app.route('/user/<name>')  \n",
    "def user(name):  \n",
    "    if name == 'admin':  \n",
    "        return redirect(url_for('admin'))  \n",
    "    if name == 'librarion':  \n",
    "        return redirect(url_for('librarion'))  \n",
    "    if name == 'student':  \n",
    "        return redirect(url_for('student'))  \n",
    "if __name__ =='__main__':  \n",
    "    app.run(debug = True)  "
   ]
  }
 ],
 "metadata": {
  "kernelspec": {
   "display_name": "Python 3 (ipykernel)",
   "language": "python",
   "name": "python3"
  },
  "language_info": {
   "codemirror_mode": {
    "name": "ipython",
    "version": 3
   },
   "file_extension": ".py",
   "mimetype": "text/x-python",
   "name": "python",
   "nbconvert_exporter": "python",
   "pygments_lexer": "ipython3",
   "version": "3.10.8"
  }
 },
 "nbformat": 4,
 "nbformat_minor": 5
}
