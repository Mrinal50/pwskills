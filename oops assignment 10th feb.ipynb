{
 "cells": [
  {
   "cell_type": "code",
   "execution_count": null,
   "id": "80de1c57-70b7-402b-b488-2be2a4058d39",
   "metadata": {},
   "outputs": [],
   "source": [
    "Qestion no 1.which functio is used toto open a file ?what are the diff method to open\n",
    "a file?explin each mode.\n",
    "\n",
    "#ANSWER- Python open() funtion are used to open a file .\n",
    "there are 6 different methods to open a file-\n",
    "1.('r'): open text file for reading.\n",
    "2. ('r+'): open file toread and write.\n",
    "3.('w'): open the file for writng .\n",
    "4. ('w+'): open the file for reading  and writing.\n",
    "5('a'): append only open the for writng.\n",
    "6. ('a+'): append open and reading and writing.\n"
   ]
  },
  {
   "cell_type": "code",
   "execution_count": null,
   "id": "9fcc59a8-5979-4787-8d39-8da935afef4c",
   "metadata": {},
   "outputs": [],
   "source": [
    "Question no 2.why close() funtion is used ? why its iportant close the file ?\n",
    "\n",
    "\n",
    "#ANSWER-  the close() method  used to close a file .\n",
    "Its very importnt to close a file after finish your  your work \n",
    "the minimize the amount of user virtual machine   resourses required and helps keep shared file and directori\n",
    "avilable for other user.closing means logically disconnecting it from from the application program. \n",
    "\n"
   ]
  },
  {
   "cell_type": "code",
   "execution_count": null,
   "id": "a2b34b19-893f-47ed-aaa7-a87886209a93",
   "metadata": {},
   "outputs": [],
   "source": [
    "#uestion no 3. write a python progg to create a text.file. write iwant to become a data scientist \n",
    "#n that file then close the file. openthis file read the content of the file.\n",
    "\n",
    "#ANSWER-\n",
    "f=open(\"write.text\",'w')\n",
    "f.write(\"i want to becomea data scientist\\n\")\n",
    "f.close()"
   ]
  },
  {
   "cell_type": "code",
   "execution_count": null,
   "id": "d95428c6-edeb-4f02-8dfc-a04a2e8db174",
   "metadata": {},
   "outputs": [],
   "source": []
  },
  {
   "cell_type": "code",
   "execution_count": null,
   "id": "6aa49c1d-0ede-41f8-af57-cbb887ab4020",
   "metadata": {},
   "outputs": [],
   "source": [
    "Question no 4. explain the followings :read(),readline(),redlines().\n",
    "\n",
    "#ANSWER-- \n",
    "read() method returs the specified number of bytes from the fie.\n",
    "readline() methods returns one line fromthe file .\n",
    "readline()  methods returns list containing each line in the files list item.\n"
   ]
  },
  {
   "cell_type": "code",
   "execution_count": null,
   "id": "e8079f0c-284a-4c40-9f84-b673837a596b",
   "metadata": {},
   "outputs": [],
   "source": [
    "question no 5.explain why write statement is used with open().what is the benifits of using it.\n",
    "\n",
    "#ANSWER--\n",
    "the statement works with the open() funtionto open th file.\n",
    "unlike open() where you have to close the file with the close() method ,the with statement closes the file \n",
    "without youtelling it to.\n",
    "thisis beause the with statement calls 2 built-in methods behind the scene ."
   ]
  },
  {
   "cell_type": "code",
   "execution_count": null,
   "id": "1c941296-6ba5-4855-96d2-bc9b8ea8d246",
   "metadata": {},
   "outputs": [],
   "source": [
    "Question no 6. explain write() and writelines() funtions.give example?\n",
    "#ANSWER--\n",
    "write() is used to write a string to an alredy opened file ,\n",
    "while writelines() methods  is used to write a list of stringin an opened file.\n"
   ]
  }
 ],
 "metadata": {
  "kernelspec": {
   "display_name": "Python 3 (ipykernel)",
   "language": "python",
   "name": "python3"
  },
  "language_info": {
   "codemirror_mode": {
    "name": "ipython",
    "version": 3
   },
   "file_extension": ".py",
   "mimetype": "text/x-python",
   "name": "python",
   "nbconvert_exporter": "python",
   "pygments_lexer": "ipython3",
   "version": "3.10.8"
  }
 },
 "nbformat": 4,
 "nbformat_minor": 5
}
