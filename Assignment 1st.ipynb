{
 "cells": [
  {
   "cell_type": "markdown",
   "id": "4cb4f5df-db1b-4671-8c1c-b2124100f53e",
   "metadata": {},
   "source": [
    "#Assignment"
   ]
  },
  {
   "cell_type": "code",
   "execution_count": null,
   "id": "0e610191-edaf-4129-8fca-2dccc99d990a",
   "metadata": {},
   "outputs": [],
   "source": [
    "Question no 1.who develpoed python programming?\n",
    "\n",
    "#Answer- Guido van rossum developed the python programming."
   ]
  },
  {
   "cell_type": "code",
   "execution_count": null,
   "id": "8d56781f-b965-44b1-9132-e9d210e65fec",
   "metadata": {},
   "outputs": [],
   "source": [
    "Question no 2.which type of progg doessupport python?\n",
    "\n",
    "#answer-  its Multi-paradigm progg that supports object oriented progg and structured progg."
   ]
  },
  {
   "cell_type": "code",
   "execution_count": null,
   "id": "dda23eb8-a6cc-4c60-bff9-b2fe2cf982b4",
   "metadata": {},
   "outputs": [],
   "source": [
    "Question no 3.is python case sensitive when deal with identifiers?\n",
    "\n",
    "# Answer-yes python is a case sensitive when deals with identifiers.\n"
   ]
  },
  {
   "cell_type": "code",
   "execution_count": null,
   "id": "6c818ac2-5b0b-4225-8bc2-aa2c2e026d5c",
   "metadata": {},
   "outputs": [],
   "source": [
    "Question no 4.what is the correct extension of the python file?\n",
    "\n",
    "#Answer - .py , .pyi, ."
   ]
  },
  {
   "cell_type": "code",
   "execution_count": null,
   "id": "fc06ca26-8192-4903-9e4e-97fe805d8049",
   "metadata": {},
   "outputs": [],
   "source": [
    "Question no 5-Is python code compliler or interpreted?\n",
    "\n",
    "#ANSWER- its a interpreter."
   ]
  },
  {
   "cell_type": "code",
   "execution_count": null,
   "id": "266733dd-2185-45aa-a0bc-51d141313398",
   "metadata": {},
   "outputs": [],
   "source": [
    "Question no 6.name few blocks of code used to define python language?\n",
    "\n",
    "#Answer-Indentation used to define a block of code ,indentation is done with Whitespace.\n",
    "example"
   ]
  },
  {
   "cell_type": "code",
   "execution_count": 1,
   "id": "d60ab2c0-a10c-431e-9a07-cf37a5f3be4a",
   "metadata": {},
   "outputs": [
    {
     "name": "stdout",
     "output_type": "stream",
     "text": [
      "correct name!!\n",
      "HI\n"
     ]
    }
   ],
   "source": [
    "# in if-statement ,the two code blocks are both four spaces intendent.\n",
    "name='alex'\n",
    "if name=='alex':\n",
    "     print('correct name!!')\n",
    "else:\n",
    "       print('Incorrect Name:(')\n",
    "print('HI')    "
   ]
  },
  {
   "cell_type": "code",
   "execution_count": null,
   "id": "d5e4ccb0-8647-40b4-b0ca-6e592ca1fc42",
   "metadata": {},
   "outputs": [],
   "source": []
  },
  {
   "cell_type": "code",
   "execution_count": 3,
   "id": "effac658-f5e8-4735-a13f-6e8756ad9599",
   "metadata": {},
   "outputs": [
    {
     "name": "stdout",
     "output_type": "stream",
     "text": [
      "hello world\n"
     ]
    }
   ],
   "source": [
    "#Question no 7.state a charecter used to give single line comments in python?\n",
    "\n",
    "#answer- #Hash character is uesd to comment the line in python.\n",
    " #this is a comment \n",
    "print('hello world')"
   ]
  },
  {
   "cell_type": "code",
   "execution_count": null,
   "id": "a147792a-4942-4210-873c-ca576517607f",
   "metadata": {},
   "outputs": [
    {
     "ename": "SyntaxError",
     "evalue": "invalid syntax (3669446457.py, line 4)",
     "output_type": "error",
     "traceback": [
      "\u001b[0;36m  Cell \u001b[0;32mIn[4], line 4\u001b[0;36m\u001b[0m\n\u001b[0;31m    python version\u001b[0m\n\u001b[0m           ^\u001b[0m\n\u001b[0;31mSyntaxError\u001b[0m\u001b[0;31m:\u001b[0m invalid syntax\n"
     ]
    }
   ],
   "source": [
    "#Question no 8.mention function which help us to find python version?\n",
    "\n",
    "#Answer -  Python --version- python 3.7.8"
   ]
  },
  {
   "cell_type": "code",
   "execution_count": null,
   "id": "29941169-8af1-49fd-82be-8ae5609a0d1a",
   "metadata": {},
   "outputs": [],
   "source": [
    "Question no 9.python supports the creation of anonymous function at runtime ,using a construct  \n",
    "\n",
    "#Answer -  python supports to make anaymous function which are not bound to a name(@runtime).its used to onstrut\n",
    "# \"lambda\". this is exact same lambda in functional progg language. "
   ]
  },
  {
   "cell_type": "code",
   "execution_count": null,
   "id": "54f80cd4-090a-40a9-a89e-6137c993e2a3",
   "metadata": {},
   "outputs": [],
   "source": [
    "Question no 10. whatdoes pip stands for in python ?\n",
    "\n",
    "#Answer--  \"PREFFERED INSTALLER PROGRAM\""
   ]
  },
  {
   "cell_type": "code",
   "execution_count": null,
   "id": "a87e4856-0703-4153-b7e1-cb43009f6454",
   "metadata": {},
   "outputs": [],
   "source": [
    "Question no 11. mention a few built in function inpython?\n",
    "\n",
    "#Answer-print() function.\n",
    "type()\n",
    "input()\n",
    "abs()\n",
    "pow()\n",
    "dir()\n",
    "sorted()\n",
    "max()\n",
    "id()\n",
    "sum()\n",
    "help()\n"
   ]
  },
  {
   "cell_type": "code",
   "execution_count": null,
   "id": "b7921b5b-8904-4a0b-903d-5502f6512abe",
   "metadata": {},
   "outputs": [],
   "source": [
    "Question no 12.whatis the max possible lenth of an identifier in python?\n",
    "\n",
    "#Answer - 79"
   ]
  },
  {
   "cell_type": "code",
   "execution_count": null,
   "id": "5b162a0f-2edc-42c8-9bbe-54f8b5c8fae8",
   "metadata": {},
   "outputs": [],
   "source": [
    "Question no 13.what are the benifits using python ?\n",
    "\n",
    "\n",
    "#Answer- Its easy and versityle , large developer community ,write less do more,it has concise syntex ,extensive liabraries,portibility."
   ]
  },
  {
   "cell_type": "code",
   "execution_count": null,
   "id": "ca2bedb3-7523-4207-84bd-46fcc6f6cb30",
   "metadata": {},
   "outputs": [],
   "source": [
    "Question no 14 .how is memory managed in python?\n",
    "\n",
    "#Answer - it involves a private heap containing all python objects ad data structure."
   ]
  },
  {
   "cell_type": "code",
   "execution_count": null,
   "id": "b5ecaac0-2ce7-4de7-9ba7-2838fa97b286",
   "metadata": {},
   "outputs": [],
   "source": [
    "Question no 15. how to install python on windows and set path variables ?\n",
    "\n",
    "#Answer - 1.right click this pc and going to properties .\n",
    "#2 . click advance system  settings in the menu on the left. 3. click o environment variable setion selecting the path variable and click on edit. "
   ]
  },
  {
   "cell_type": "code",
   "execution_count": null,
   "id": "05a5726d-6080-4d0e-b6bd-53b68fbb1bca",
   "metadata": {},
   "outputs": [],
   "source": [
    "Question no 16. is indentation required in python ?\n",
    "\n",
    "#answer --inedentation refers to the spaces at the beginning of the code line. \n",
    "#where is in other programs the indentation only readability"
   ]
  }
 ],
 "metadata": {
  "kernelspec": {
   "display_name": "Python 3 (ipykernel)",
   "language": "python",
   "name": "python3"
  },
  "language_info": {
   "codemirror_mode": {
    "name": "ipython",
    "version": 3
   },
   "file_extension": ".py",
   "mimetype": "text/x-python",
   "name": "python",
   "nbconvert_exporter": "python",
   "pygments_lexer": "ipython3",
   "version": "3.10.8"
  }
 },
 "nbformat": 4,
 "nbformat_minor": 5
}
