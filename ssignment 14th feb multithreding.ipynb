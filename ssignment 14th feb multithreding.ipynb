{
 "cells": [
  {
   "cell_type": "code",
   "execution_count": null,
   "id": "793a4014-cbe2-4212-87b3-14039f87e959",
   "metadata": {},
   "outputs": [],
   "source": [
    "Question no 1.what is multhreading in python? name the module used to handlee thread .\n",
    "\n",
    "ANSWER-ability of a program to enable more than one user at a same time without requiring multiple copies."
   ]
  },
  {
   "cell_type": "code",
   "execution_count": 2,
   "id": "b9cfc778-6b8f-4c3e-ae48-cd79c40727a3",
   "metadata": {},
   "outputs": [
    {
     "name": "stdout",
     "output_type": "stream",
     "text": [
      "This is thread1\n",
      "This is thread2\n"
     ]
    },
    {
     "data": {
      "text/plain": [
       "140127972079168"
      ]
     },
     "execution_count": 2,
     "metadata": {},
     "output_type": "execute_result"
    }
   ],
   "source": [
    "import _thread\n",
    "def MyThread1():\n",
    "    print(\"This is thread1\")\n",
    "def MyThread2():\n",
    "    print(\"This is thread2\")\n",
    " \n",
    "_thread.start_new_thread(MyThread1, ())\n",
    "_thread.start_new_thread(MyThread2, ())\n"
   ]
  },
  {
   "cell_type": "code",
   "execution_count": null,
   "id": "23514d91-d26c-4ec2-840d-be3c2f794940",
   "metadata": {},
   "outputs": [],
   "source": []
  },
  {
   "cell_type": "code",
   "execution_count": null,
   "id": "cd922731-a735-4ed4-9a2a-667bd50907b8",
   "metadata": {},
   "outputs": [],
   "source": [
    "QUESTION NO 2.WHY thread module used ?write following funtion.\n",
    "1.activecount()\n",
    "2.current thread()\n",
    "3.enumarate()\n",
    "\n",
    " ANSWER- Python threading allows you to have different parts of your program run concurrently and can simplify your design.\n",
    "  \n",
    "1. threading.activeCount() − This returns the number of active thread objects.\n",
    "2'threading.currentThread() − This returns the number of objects that are under the thread control of the caller.\n",
    "3.threading.enumerate() −This returns the list of all thread objects that are presently active"
   ]
  },
  {
   "cell_type": "code",
   "execution_count": null,
   "id": "afc7db43-9de1-44da-bf74-31c2294c0c28",
   "metadata": {},
   "outputs": [],
   "source": [
    "Question no 3. Explain the following functions\n",
    "1.( run)\n",
    "2. (start)\n",
    " 3.   (join)\n",
    "4.(' isAlive)\n",
    "\n",
    "ANSWER--1--run() − The run() method is the entry point for a thread. start() .\n",
    " 2.The start() method starts a thread by calling the run method.\n",
    "   3.The join() waits for threads to terminate. isAlive().\n",
    "   4.The isAlive() method checks whether a thread is still executing."
   ]
  },
  {
   "cell_type": "code",
   "execution_count": null,
   "id": "86e37082-32ee-4d06-ac0e-fe0d4a280548",
   "metadata": {},
   "outputs": [],
   "source": []
  },
  {
   "cell_type": "code",
   "execution_count": 3,
   "id": "dd092286-3b56-40c2-b883-35ce7271f696",
   "metadata": {},
   "outputs": [
    {
     "name": "stdout",
     "output_type": "stream",
     "text": [
      "Square: 100\n",
      "Cube: 1000\n",
      "Done!\n"
     ]
    }
   ],
   "source": [
    "#OUESTION NO 4. write a python program to create two threads. Thread one must print the list of squares and thread\n",
    "#two must print the list of cubes.\n",
    "#ANSWER-\n",
    "# Python program to illustrate the concept\n",
    "# of threading\n",
    "# importing the threading module\n",
    "import threading\n",
    "\n",
    "\n",
    "def print_cube(num):\n",
    "\n",
    "    print(\"Cube: {}\" .format(num * num * num))\n",
    "\n",
    "\n",
    "def print_square(num):\n",
    "\n",
    "    print(\"Square: {}\" .format(num * num))\n",
    "\n",
    "\n",
    "if __name__ ==\"__main__\":\n",
    "    # creating thread\n",
    "    t1 = threading.Thread(target=print_square, args=(10,))\n",
    "    t2 = threading.Thread(target=print_cube, args=(10,))\n",
    "\n",
    "    # starting thread 1\n",
    "    t1.start()\n",
    "    # starting thread 2\n",
    "    t2.start()\n",
    "\n",
    "    t1.join()\n",
    "     \n",
    "    t2.join()\n",
    "\n",
    "    # both threads completely executed\n",
    "    print(\"Done!\")\n",
    "\n"
   ]
  },
  {
   "cell_type": "code",
   "execution_count": null,
   "id": "9b4f3c48-a56a-417a-8b1d-0e2a87163dd1",
   "metadata": {},
   "outputs": [],
   "source": [
    "Question no 5.State advantages and disadvantages of multithreading?\n",
    "\n",
    "Answer-\n",
    "This model provides more concurrency than the many-to-one model. \n",
    "It also allows another thread to run when a thread makes a blocking system call. \n",
    "It supports multiple threads to execute in parallel on microprocessors."
   ]
  },
  {
   "cell_type": "code",
   "execution_count": null,
   "id": "8262da92-34d0-4b9f-a1e6-3718ae43704c",
   "metadata": {},
   "outputs": [],
   "source": [
    "Question no 6.Explain deadlocks and race conditions.\n"
   ]
  }
 ],
 "metadata": {
  "kernelspec": {
   "display_name": "Python 3 (ipykernel)",
   "language": "python",
   "name": "python3"
  },
  "language_info": {
   "codemirror_mode": {
    "name": "ipython",
    "version": 3
   },
   "file_extension": ".py",
   "mimetype": "text/x-python",
   "name": "python",
   "nbconvert_exporter": "python",
   "pygments_lexer": "ipython3",
   "version": "3.10.8"
  }
 },
 "nbformat": 4,
 "nbformat_minor": 5
}
