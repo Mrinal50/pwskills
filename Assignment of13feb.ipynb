{
 "cells": [
  {
   "cell_type": "code",
   "execution_count": null,
   "id": "50b05987-11eb-440b-8649-9af3cef0c987",
   "metadata": {},
   "outputs": [],
   "source": [
    "Question no1. wht is exceptioon in python? what is the difference between exeption&syntex error?\n",
    "\n",
    "ANSWER-  \n",
    "An exception isan event ,which occours during the execution of the program that disrupt the normal \n",
    "flow of the program istruction .\n",
    "the main difference with syntex error is when code does not conform topython keywords ,naming style or\n",
    "programming strcture."
   ]
  },
  {
   "cell_type": "code",
   "execution_count": 1,
   "id": "5723ff3e-3c33-45a9-916b-6caa6acf769c",
   "metadata": {},
   "outputs": [
    {
     "name": "stdin",
     "output_type": "stream",
     "text": [
      "not an even number! 3\n"
     ]
    },
    {
     "name": "stdout",
     "output_type": "stream",
     "text": [
      "Not an even number!\n"
     ]
    }
   ],
   "source": [
    "#Question no2.what happen when exception not handled?eplain with example?\n",
    "\n",
    "#Answer--\n",
    "#If an exception is not handled exeption clause ,\n",
    "#the exeption is re-er the finally af clause has been executed.\n",
    "\n",
    "\n",
    "#example:\n",
    "#program toprint the reciprocal of even number.\n",
    "try:\n",
    "    num= int(input(\"not an even number!\"))\n",
    "    assert num % 2==0\n",
    "except:\n",
    "        print('Not an even number!')\n",
    "else:\n",
    "            reciprocal=1/num\n",
    "            print(reciproal)\n",
    "    \n"
   ]
  },
  {
   "cell_type": "code",
   "execution_count": null,
   "id": "ac345c6f-066f-4ee5-becb-f7f8fd9b1ce9",
   "metadata": {},
   "outputs": [],
   "source": [
    "#if we pass an even number ,the reciprocal is computed and displayed."
   ]
  },
  {
   "cell_type": "code",
   "execution_count": null,
   "id": "ef3a50ad-400f-4bd1-91fa-9f8d5b84d40c",
   "metadata": {},
   "outputs": [],
   "source": [
    "we get 0.25"
   ]
  },
  {
   "cell_type": "code",
   "execution_count": 3,
   "id": "a92e8ddc-85d0-497c-8c0a-591d2ceb0889",
   "metadata": {},
   "outputs": [
    {
     "ename": "IndentationError",
     "evalue": "unindent does not match any outer indentation level (<tokenize>, line 11)",
     "output_type": "error",
     "traceback": [
      "\u001b[0;36m  File \u001b[0;32m<tokenize>:11\u001b[0;36m\u001b[0m\n\u001b[0;31m    else:\u001b[0m\n\u001b[0m    ^\u001b[0m\n\u001b[0;31mIndentationError\u001b[0m\u001b[0;31m:\u001b[0m unindent does not match any outer indentation level\n"
     ]
    }
   ],
   "source": [
    "#Qestion no3 .which python statement are used to catch and handled exeption ?example give.\n",
    "\n",
    "#Answer--\n",
    "#the \"try and exept block \"used to catch and handle eception .\n",
    "\n",
    "def AbyB(a,b):\n",
    "    try:\n",
    "        c=((a+b)/(a-b))\n",
    "except:ZeroDivisionError:\n",
    "        print('a/b result in 0')\n",
    "        else:\n",
    "        print(c)\n",
    "       #driver program to test above       \n",
    "AbyB(2,0,3,0)\n",
    "AbyB(3,0,3,0) "
   ]
  },
  {
   "cell_type": "code",
   "execution_count": 4,
   "id": "30a1fffd-a6f5-4655-b27c-ec4f6b7b2a77",
   "metadata": {},
   "outputs": [
    {
     "name": "stdout",
     "output_type": "stream",
     "text": [
      "hello\n",
      "nothing went wrong\n"
     ]
    }
   ],
   "source": [
    "#Question no 4-Explain  with example\n",
    "#a. try and else\n",
    "#b. finally\n",
    "#c.raise\n",
    "\n",
    "#answer (a),-try; lets you know test block of code for errors., else block let you execute code when thre is no error.\n",
    "#a.try and else- #the try block does not raise any errors ,so the else block is executed:\n",
    "try:\n",
    "    print('hello')\n",
    "except:\n",
    "    print('somthing went wrong')\n",
    "else:\n",
    "    print('nothing went wrong')\n",
    "            "
   ]
  },
  {
   "cell_type": "code",
   "execution_count": 5,
   "id": "81bcd365-3ced-4f13-8067-b6841911edc6",
   "metadata": {},
   "outputs": [
    {
     "name": "stdout",
     "output_type": "stream",
     "text": [
      "an exeption occured\n"
     ]
    }
   ],
   "source": [
    "#b, finally lets you know executed code regardless of results of try and except block.\n",
    "try:\n",
    "    print(x)\n",
    "except:\n",
    "    print('an exeption occured')"
   ]
  },
  {
   "cell_type": "code",
   "execution_count": 6,
   "id": "2a2c1f9b-097b-45b4-be68-f8afe5830ac0",
   "metadata": {},
   "outputs": [
    {
     "ename": "NameError",
     "evalue": "name 'x' is not defined",
     "output_type": "error",
     "traceback": [
      "\u001b[0;31m---------------------------------------------------------------------------\u001b[0m",
      "\u001b[0;31mNameError\u001b[0m                                 Traceback (most recent call last)",
      "Cell \u001b[0;32mIn[6], line 2\u001b[0m\n\u001b[1;32m      1\u001b[0m \u001b[38;5;66;03m#c., raise without try block program will crash and raise an error.\u001b[39;00m\n\u001b[0;32m----> 2\u001b[0m \u001b[38;5;28mprint\u001b[39m(\u001b[43mx\u001b[49m)\n",
      "\u001b[0;31mNameError\u001b[0m: name 'x' is not defined"
     ]
    }
   ],
   "source": [
    "#c., raise without try block program will crash and raise an error.\n",
    "print(x)"
   ]
  },
  {
   "cell_type": "code",
   "execution_count": null,
   "id": "f88270fa-2530-43f8-b9e7-d2ed04c4d0de",
   "metadata": {},
   "outputs": [],
   "source": [
    "#QUESTION NO 5.What are custum exception in python?why we need explain with example?\n",
    "\n",
    "#ANSWER-we can customised this class to accept other argument as per our needs.\n",
    "class MyError(Exception):\n",
    "    #construct or initializing\n",
    "    def__init__(self,value):\n",
    "        self.value=value\n",
    "        #-_str__is to print() \n",
    "        def__str__(self):\n",
    "            return(repr(self.value))\n",
    "        try:\n",
    "            raise(MyError(3*2))\n",
    "            #value of exceptionis stored\n",
    "            except MyError as error:\n",
    "                print('A New Exeption occured')\n",
    "                      \n"
   ]
  },
  {
   "cell_type": "code",
   "execution_count": 10,
   "id": "fa863d5f-412c-4f1e-92a5-e620c27ccc2c",
   "metadata": {},
   "outputs": [
    {
     "name": "stdout",
     "output_type": "stream",
     "text": [
      "division by zero\n"
     ]
    }
   ],
   "source": [
    "#QUESTION NO 6.List down some best practice for exeption handling in python.\n",
    "#ANSWER-\n",
    "(a, b)=(6,0)\n",
    "try:\n",
    "    g=a/b\n",
    "except ZeroDivisionError as s:\n",
    "        k=s\n",
    "        print(k)\n",
    "        #output wiil be integer \n",
    "        #division or modulo by zero"
   ]
  },
  {
   "cell_type": "code",
   "execution_count": null,
   "id": "48296f8b-d65f-479c-97da-4949a00fc902",
   "metadata": {},
   "outputs": [],
   "source": []
  }
 ],
 "metadata": {
  "kernelspec": {
   "display_name": "Python 3 (ipykernel)",
   "language": "python",
   "name": "python3"
  },
  "language_info": {
   "codemirror_mode": {
    "name": "ipython",
    "version": 3
   },
   "file_extension": ".py",
   "mimetype": "text/x-python",
   "name": "python",
   "nbconvert_exporter": "python",
   "pygments_lexer": "ipython3",
   "version": "3.10.8"
  }
 },
 "nbformat": 4,
 "nbformat_minor": 5
}
