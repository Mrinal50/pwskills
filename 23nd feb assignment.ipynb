{
 "cells": [
  {
   "cell_type": "code",
   "execution_count": null,
   "id": "9df3f20d-cf08-4fe1-b427-5a9efe7900fd",
   "metadata": {},
   "outputs": [],
   "source": [
    "Q4. What is ‘DataFrame’ in pandas and how is it different from pandas.series? Explain with an example.\n",
    "answer==\n",
    "Pandas DataFrame, on the other hand, is a two-dimensional structure with columns and rows whose size can be changed. \n",
    "You can also think of it as a dictionary of Series objects.\n",
    "The data parameter can take any of the following data types: Dictionary (dict) of – 1D ndarray, lists, or Series\n",
    "#importing pandas librar\n"
   ]
  },
  {
   "cell_type": "code",
   "execution_count": 1,
   "id": "763a167a-d832-4be7-aaa3-5ba18767c634",
   "metadata": {},
   "outputs": [
    {
     "name": "stdout",
     "output_type": "stream",
     "text": [
      "0    Jitender\n",
      "1     Purnima\n",
      "2       Arpit\n",
      "3       Jyoti\n",
      "dtype: object\n"
     ]
    }
   ],
   "source": [
    "#importing pandas library\n",
    "import pandas as pd\n",
    "\n",
    "#Creating a list\n",
    "author = ['Jitender', 'Purnima', 'Arpit', 'Jyoti']\n",
    "#Creating a Series by passing list variable to Series() function\n",
    "auth_series = pd.Series(author)\n",
    "#Printing Series\n",
    "print(auth_series)\n"
   ]
  },
  {
   "cell_type": "code",
   "execution_count": null,
   "id": "408ff3e8-bf7a-40c7-9218-04a8361e971c",
   "metadata": {},
   "outputs": [],
   "source": [
    "Q5. What are some common functions you can use to manipulate data in a Pandas DataFrame? Can\n",
    "you give an example of when you might use one of these functions?\n",
    "answer-\n",
    "What function do you use to manipulate a pandas DataFrame?\n",
    "#2 – Apply Function in Pandas\n",
    "\n",
    "It is one of the commonly used Pandas functions for manipulating a pandas dataframe and creating new variables.\n",
    "Pandas Apply function returns some value after passing each row/column of a data frame with some function."
   ]
  },
  {
   "cell_type": "code",
   "execution_count": null,
   "id": "c695ea01-86fe-43a0-995e-3061b30d7c33",
   "metadata": {},
   "outputs": [],
   "source": [
    "q6.Which of the following is mutable in nature Series, DataFrame, Panel?\n",
    "answer--\n"
   ]
  }
 ],
 "metadata": {
  "kernelspec": {
   "display_name": "Python 3 (ipykernel)",
   "language": "python",
   "name": "python3"
  },
  "language_info": {
   "codemirror_mode": {
    "name": "ipython",
    "version": 3
   },
   "file_extension": ".py",
   "mimetype": "text/x-python",
   "name": "python",
   "nbconvert_exporter": "python",
   "pygments_lexer": "ipython3",
   "version": "3.10.8"
  }
 },
 "nbformat": 4,
 "nbformat_minor": 5
}
