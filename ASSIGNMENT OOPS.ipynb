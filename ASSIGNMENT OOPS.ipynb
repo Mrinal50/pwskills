{
 "cells": [
  {
   "cell_type": "code",
   "execution_count": null,
   "id": "4c84b0d0-3da4-4caa-9233-944ff96a0da1",
   "metadata": {},
   "outputs": [],
   "source": [
    "#question no 1.\n",
    "class Vehicle:\n",
    "    def__init__(self,speed,average):\n",
    "        self.speed= speed\n",
    "        self.average =average\n",
    "        \n",
    "    def show_Vehicle_feature(self):\n",
    "        print(\"speed of vehicle is \",self.speed)\n",
    "        print(\"vehicle average is\",self.average)       "
   ]
  },
  {
   "cell_type": "code",
   "execution_count": null,
   "id": "3670c55f-5721-4011-8bd0-e8a967d5e8f3",
   "metadata": {},
   "outputs": [],
   "source": [
    "e1 = Vehicle(500,20)"
   ]
  },
  {
   "cell_type": "code",
   "execution_count": 43,
   "id": "e9969531-1438-4a9b-9e54-49357903a08c",
   "metadata": {},
   "outputs": [
    {
     "ename": "NameError",
     "evalue": "name 'e1' is not defined",
     "output_type": "error",
     "traceback": [
      "\u001b[0;31m---------------------------------------------------------------------------\u001b[0m",
      "\u001b[0;31mNameError\u001b[0m                                 Traceback (most recent call last)",
      "Cell \u001b[0;32mIn[52], line 1\u001b[0m\n\u001b[0;32m----> 1\u001b[0m \u001b[43me1\u001b[49m\u001b[38;5;241m.\u001b[39mshow_Vehicle_feature()\n",
      "\u001b[0;31mNameError\u001b[0m: name 'e1' is not defined"
     ]
    }
   ],
   "source": [
    "e1.show_Vehicle_feature()"
   ]
  },
  {
   "cell_type": "code",
   "execution_count": null,
   "id": "1862a1cd-bf4a-4b2b-9c1c-c2dadca02d71",
   "metadata": {},
   "outputs": [],
   "source": [
    "#there is problem or may be code is wrong but ,not defined always this error showed in notebook. "
   ]
  },
  {
   "cell_type": "code",
   "execution_count": null,
   "id": "3e90e963-5269-403b-9f88-c3fdfce44d95",
   "metadata": {},
   "outputs": [],
   "source": [
    "question no 3.-what is multiple inheritence? write a code for it.\n",
    "\n",
    "answer-\n",
    "#when a class derived from more then one base class called multiple inheritence.\n",
    "feature of  base1 & feature of base 2 =feature of base 1+feature of  base 2.(multiderived)\n",
    "#creating class for father is followings below\n"
   ]
  },
  {
   "cell_type": "code",
   "execution_count": 39,
   "id": "e58dad5f-ad6c-4b5b-84e0-bdfd5865d524",
   "metadata": {},
   "outputs": [
    {
     "name": "stdout",
     "output_type": "stream",
     "text": [
      "Dad sings well\n",
      "Mom codes well\n",
      "kid loves to play\n"
     ]
    }
   ],
   "source": [
    "class Dad():\n",
    "    def singing(self):\n",
    "           print('Dad sings well')\n",
    "class Mom():\n",
    "    def coding(self):\n",
    "           print('Mom codes well')\n",
    "class Child(Dad,Mom):\n",
    "    def play(self):\n",
    "           print('kid loves to play')\n",
    "Child=Child()\n",
    "Child.singing()\n",
    "Child.coding()\n",
    "Child.play()\n",
    "\n",
    "\n",
    "        "
   ]
  },
  {
   "cell_type": "code",
   "execution_count": null,
   "id": "389fa21b-6a7d-4490-87d0-4f16b1fea038",
   "metadata": {},
   "outputs": [],
   "source": [
    "Question no 4 what are getter and setter in python ?create a class to getter and setter.\n",
    "\n",
    "answer--\n",
    "getters -these methods used in OOPS to a acces a private things which are  secured .\n",
    "and settersare used to keep things private and private ina class.\n",
    "example\n"
   ]
  },
  {
   "cell_type": "code",
   "execution_count": 51,
   "id": "16120874-2dda-4746-9168-24a316883cd8",
   "metadata": {},
   "outputs": [
    {
     "ename": "NameError",
     "evalue": "name 'Man' is not defined",
     "output_type": "error",
     "traceback": [
      "\u001b[0;31m---------------------------------------------------------------------------\u001b[0m",
      "\u001b[0;31mNameError\u001b[0m                                 Traceback (most recent call last)",
      "Cell \u001b[0;32mIn[51], line 1\u001b[0m\n\u001b[0;32m----> 1\u001b[0m \u001b[38;5;28;01mclass\u001b[39;00m   \u001b[38;5;21;01mMan\u001b[39;00m:\n\u001b[1;32m      2\u001b[0m     \u001b[38;5;28;01mdef\u001b[39;00m \u001b[38;5;21m_init_\u001b[39m(\u001b[38;5;28mself\u001b[39m,age):\n\u001b[1;32m      3\u001b[0m         \u001b[38;5;28mself\u001b[39m\u001b[38;5;241m.\u001b[39m_age\u001b[38;5;241m=\u001b[39mage\n",
      "Cell \u001b[0;32mIn[51], line 10\u001b[0m, in \u001b[0;36mMan\u001b[0;34m()\u001b[0m\n\u001b[1;32m      8\u001b[0m \u001b[38;5;28;01mdef\u001b[39;00m \u001b[38;5;21mset_age\u001b[39m(\u001b[38;5;28mself\u001b[39m,x):\n\u001b[1;32m      9\u001b[0m     \u001b[38;5;28mself\u001b[39m\u001b[38;5;241m.\u001b[39m_age\u001b[38;5;241m=\u001b[39mx\n\u001b[0;32m---> 10\u001b[0m raj \u001b[38;5;241m=\u001b[39m \u001b[43mMan\u001b[49m()\n\u001b[1;32m     11\u001b[0m \u001b[38;5;66;03m#setting the age using setter\u001b[39;00m\n\u001b[1;32m     12\u001b[0m raj\u001b[38;5;241m.\u001b[39mset_age(\u001b[38;5;241m45\u001b[39m)\n",
      "\u001b[0;31mNameError\u001b[0m: name 'Man' is not defined"
     ]
    }
   ],
   "source": [
    "class   Man:\n",
    "    def _init_(self,age):\n",
    "        self._age=age\n",
    "        #getter method\n",
    "    def get_age(self):\n",
    "        return self._age\n",
    "#setter method \n",
    "    def set_age(self,x):\n",
    "        self._age=x\n",
    "    raj = Man()\n",
    "    #setting the age using setter\n",
    "    raj.set_age(45)\n",
    "    #retriving age using getter\n",
    "    print(raj.get_age())\n",
    "    print(raj._age)"
   ]
  },
  {
   "cell_type": "code",
   "execution_count": null,
   "id": "3410659c-3513-43f4-9737-225f8bb314bd",
   "metadata": {},
   "outputs": [],
   "source": [
    "#i dont know why name undefined always says even the code is correct.\n",
    "\n"
   ]
  },
  {
   "cell_type": "code",
   "execution_count": null,
   "id": "2481538c-18e6-4724-8665-7136346a9b1c",
   "metadata": {},
   "outputs": [],
   "source": [
    "Question no5 . wht is method of overridind in python ?write code for it.\n",
    "\n",
    "Answer- in simple language  when  child class has same method as parent method.\n",
    "example are beow followings---"
   ]
  },
  {
   "cell_type": "code",
   "execution_count": 61,
   "id": "cf94fe8e-f344-4416-828a-2c36d7b51a47",
   "metadata": {},
   "outputs": [
    {
     "ename": "NameError",
     "evalue": "name 'Parent2' is not defined",
     "output_type": "error",
     "traceback": [
      "\u001b[0;31m---------------------------------------------------------------------------\u001b[0m",
      "\u001b[0;31mNameError\u001b[0m                                 Traceback (most recent call last)",
      "Cell \u001b[0;32mIn[61], line 7\u001b[0m\n\u001b[1;32m      5\u001b[0m         \u001b[38;5;28mprint\u001b[39m(\u001b[38;5;124m'\u001b[39m\u001b[38;5;124mInside parent1\u001b[39m\u001b[38;5;124m'\u001b[39m)\n\u001b[1;32m      6\u001b[0m         \u001b[38;5;66;03m#defining parent class 2\u001b[39;00m\n\u001b[0;32m----> 7\u001b[0m \u001b[38;5;28;01mclass\u001b[39;00m \u001b[38;5;21;01mParent2\u001b[39;00m():\n\u001b[1;32m      8\u001b[0m             \u001b[38;5;66;03m#parent shows methods \u001b[39;00m\n\u001b[1;32m      9\u001b[0m     \u001b[38;5;28;01mdef\u001b[39;00m \u001b[38;5;21mdisplay\u001b[39m(\u001b[38;5;28mself\u001b[39m):\n\u001b[1;32m     10\u001b[0m          \u001b[38;5;28mprint\u001b[39m(\u001b[38;5;124m'\u001b[39m\u001b[38;5;124mInside Parent2\u001b[39m\u001b[38;5;124m'\u001b[39m)\n",
      "Cell \u001b[0;32mIn[61], line 12\u001b[0m, in \u001b[0;36mParent2\u001b[0;34m()\u001b[0m\n\u001b[1;32m     10\u001b[0m      \u001b[38;5;28mprint\u001b[39m(\u001b[38;5;124m'\u001b[39m\u001b[38;5;124mInside Parent2\u001b[39m\u001b[38;5;124m'\u001b[39m)\n\u001b[1;32m     11\u001b[0m             \u001b[38;5;66;03m#defining child class\u001b[39;00m\n\u001b[0;32m---> 12\u001b[0m \u001b[38;5;28;01mclass\u001b[39;00m \u001b[38;5;21;01mChild\u001b[39;00m(Parent1,\u001b[43mParent2\u001b[49m):\n\u001b[1;32m     13\u001b[0m                 \u001b[38;5;66;03m#child show methos \u001b[39;00m\n\u001b[1;32m     14\u001b[0m     \u001b[38;5;28;01mdef\u001b[39;00m \u001b[38;5;21mshow\u001b[39m(\u001b[38;5;28mself\u001b[39m):\n\u001b[1;32m     15\u001b[0m         \u001b[38;5;28mprint\u001b[39m(\u001b[38;5;124m'\u001b[39m\u001b[38;5;124mInside Child\u001b[39m\u001b[38;5;124m'\u001b[39m)\n",
      "\u001b[0;31mNameError\u001b[0m: name 'Parent2' is not defined"
     ]
    }
   ],
   "source": [
    "#deining a parents class 1\n",
    "class Parent1():\n",
    "    #parent's show methods\n",
    "    def show(self):\n",
    "        print('Inside parent1')\n",
    "        #defining parent class 2\n",
    "class Parent2():\n",
    "            #parent shows methods \n",
    "    def display(self):\n",
    "         print('Inside Parent2')\n",
    "                #defining child class\n",
    "    class Child(Parent1,Parent2):\n",
    "                    #child show methos \n",
    "        def show(self):\n",
    "            print('Inside Child')\n",
    " #driver's code\n",
    "obj = Child()\n",
    "\n",
    "obj.show()\n",
    "obj.display()"
   ]
  },
  {
   "cell_type": "code",
   "execution_count": null,
   "id": "85af16bd-be8b-4a5e-946a-9d76b839f7d9",
   "metadata": {},
   "outputs": [],
   "source": []
  }
 ],
 "metadata": {
  "kernelspec": {
   "display_name": "Python 3 (ipykernel)",
   "language": "python",
   "name": "python3"
  },
  "language_info": {
   "codemirror_mode": {
    "name": "ipython",
    "version": 3
   },
   "file_extension": ".py",
   "mimetype": "text/x-python",
   "name": "python",
   "nbconvert_exporter": "python",
   "pygments_lexer": "ipython3",
   "version": "3.10.8"
  }
 },
 "nbformat": 4,
 "nbformat_minor": 5
}
